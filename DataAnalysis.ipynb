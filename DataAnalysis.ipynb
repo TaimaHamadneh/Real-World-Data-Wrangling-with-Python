{
 "cells": [
  {
   "cell_type": "markdown",
   "id": "1160465f-525d-4fbb-93bb-ff7b6d12a0d6",
   "metadata": {},
   "source": [
    "## Real-world Data Wrangling\n",
    "In this project, you will apply the skills you acquired in the course to gather and wrangle real-world data with two datasets of your choice.\n",
    "\n",
    "### 1. Gather data\n",
    "\n",
    "### **1.1.** Problem Statement\r\n",
    "In 2-4 sentences, explain the kind of problem you want to look at and the datasets you will be wrangling for this project.tFinding the right datasets can be time-consuming. Here we provide you with a list of websites to start with. But we encourage you to explore more websites and find the data that interests you.\r\n",
    "\r\n",
    "* Google Dataset Search https://datasetsearch.research.google.com/\r\n",
    "* The U.S. Government’s open data https://data.gov/\r\n",
    "* UCI Machine Learning Repository https://archive.ics.uci.edu/ml/index.php\r\n",
    "index.php"
   ]
  },
  {
   "cell_type": "code",
   "execution_count": 294,
   "id": "301fe2f3-bb9d-485d-aa67-cfab93bce11b",
   "metadata": {},
   "outputs": [],
   "source": [
    "# Importing the numpy library\n",
    "import numpy as np\n",
    "\n",
    "# Importing the pandas library \n",
    "import pandas as pd\n",
    "\n",
    "# Importing the matplotlib library\n",
    "from matplotlib import pyplot as plt\n",
    "\n",
    "# Importing the zipfile library \n",
    "import zipfile\n",
    "\n",
    "# Importing the os library \n",
    "import os\n",
    "\n",
    "# Importing the seaborn library \n",
    "import seaborn as sns\n",
    "\n",
    "# Ensuring that matplotlib plots display inline within Jupyter Notebooks\n",
    "%matplotlib inline"
   ]
  },
  {
   "cell_type": "markdown",
   "id": "04d98cb5-6b01-4c68-ac57-5cff81eedc46",
   "metadata": {},
   "source": [
    "#### **Dataset 1**\n",
    "\n",
    "Type:  CSV File.\n",
    "\n",
    "Method: The data was gathered using the \"Downloading files\" method from https://archive.ics.uci.edu/ source.)\n",
    "\n",
    "Dataset variables:\n",
    "\n",
    "*   age: Age of the individual.\n",
    "*   workclass: The type of work the individual is engaged in (e.g., private, self-employed, government).\n",
    "*   fnlwgt: Final weight assigned to each individual in the dataset.\n",
    "*   education: Highest level of education \n",
    "*   education-num: Number of years of education \n",
    "*   marital-status: Marital status of the individual (e.g., married, single, divorced).\n",
    "*   relationship: Relationship status(e.g., husband, wife, own-child, Not-in-family, Unmarried, etc).\n",
    "*   race: (e.g., White, Black, Asian-Pac-Islander, Amer-Indian-Eskimo)\n",
    "*   sex: Gender (e.g., Male, Female).\n",
    "*   capital-gain: Capital gains\n",
    "*   capital-loss: Capital-loss\n",
    "*   hours-per-week: Number of hours worked per week.\n",
    "*   native-country: Country of origin of the individual.\n",
    "*   annual_income: Annual income (e.g., <=50K, >50K).\n"
   ]
  },
  {
   "cell_type": "code",
   "execution_count": 295,
   "id": "d64515b8-b819-47b9-a6b5-9e3c77aec3bd",
   "metadata": {},
   "outputs": [
    {
     "name": "stdout",
     "output_type": "stream",
     "text": [
      "   age         workclass  fnlwgt  education  education-num  \\\n",
      "0   39         State-gov   77516  Bachelors             13   \n",
      "1   50  Self-emp-not-inc   83311  Bachelors             13   \n",
      "2   38           Private  215646    HS-grad              9   \n",
      "3   53           Private  234721       11th              7   \n",
      "4   28           Private  338409  Bachelors             13   \n",
      "5   37           Private  284582    Masters             14   \n",
      "6   49           Private  160187        9th              5   \n",
      "7   52  Self-emp-not-inc  209642    HS-grad              9   \n",
      "8   31           Private   45781    Masters             14   \n",
      "9   42           Private  159449  Bachelors             13   \n",
      "\n",
      "          marital-status         occupation   relationship   race     sex  \\\n",
      "0          Never-married       Adm-clerical  Not-in-family  White    Male   \n",
      "1     Married-civ-spouse    Exec-managerial        Husband  White    Male   \n",
      "2               Divorced  Handlers-cleaners  Not-in-family  White    Male   \n",
      "3     Married-civ-spouse  Handlers-cleaners        Husband  Black    Male   \n",
      "4     Married-civ-spouse     Prof-specialty           Wife  Black  Female   \n",
      "5     Married-civ-spouse    Exec-managerial           Wife  White  Female   \n",
      "6  Married-spouse-absent      Other-service  Not-in-family  Black  Female   \n",
      "7     Married-civ-spouse    Exec-managerial        Husband  White    Male   \n",
      "8          Never-married     Prof-specialty  Not-in-family  White  Female   \n",
      "9     Married-civ-spouse    Exec-managerial        Husband  White    Male   \n",
      "\n",
      "   capital-gain  capital-loss  hours-per-week native-country annual_income  \n",
      "0          2174             0              40  United-States         <=50K  \n",
      "1             0             0              13  United-States         <=50K  \n",
      "2             0             0              40  United-States         <=50K  \n",
      "3             0             0              40  United-States         <=50K  \n",
      "4             0             0              40           Cuba         <=50K  \n",
      "5             0             0              40  United-States         <=50K  \n",
      "6             0             0              16        Jamaica         <=50K  \n",
      "7             0             0              45  United-States          >50K  \n",
      "8         14084             0              50  United-States          >50K  \n",
      "9          5178             0              40  United-States          >50K  \n"
     ]
    }
   ],
   "source": [
    "# Load the dataset\n",
    "df1 = pd.read_csv('census-income .csv')\n",
    "\n",
    "# Display the first 10 rows\n",
    "print(df1.head(10))"
   ]
  },
  {
   "cell_type": "code",
   "execution_count": 296,
   "id": "8a4e4bfc-8510-4811-9474-467bb25898f8",
   "metadata": {},
   "outputs": [
    {
     "name": "stdout",
     "output_type": "stream",
     "text": [
      "<class 'pandas.core.frame.DataFrame'>\n",
      "RangeIndex: 32561 entries, 0 to 32560\n",
      "Data columns (total 15 columns):\n",
      " #   Column          Non-Null Count  Dtype \n",
      "---  ------          --------------  ----- \n",
      " 0   age             32561 non-null  int64 \n",
      " 1   workclass       32561 non-null  object\n",
      " 2   fnlwgt          32561 non-null  int64 \n",
      " 3   education       32561 non-null  object\n",
      " 4   education-num   32561 non-null  int64 \n",
      " 5   marital-status  32561 non-null  object\n",
      " 6   occupation      32561 non-null  object\n",
      " 7   relationship    32561 non-null  object\n",
      " 8   race            32561 non-null  object\n",
      " 9   sex             32561 non-null  object\n",
      " 10  capital-gain    32561 non-null  int64 \n",
      " 11  capital-loss    32561 non-null  int64 \n",
      " 12  hours-per-week  32561 non-null  int64 \n",
      " 13  native-country  32561 non-null  object\n",
      " 14  annual_income   32561 non-null  object\n",
      "dtypes: int64(6), object(9)\n",
      "memory usage: 3.7+ MB\n",
      "age               0\n",
      "workclass         0\n",
      "fnlwgt            0\n",
      "education         0\n",
      "education-num     0\n",
      "marital-status    0\n",
      "occupation        0\n",
      "relationship      0\n",
      "race              0\n",
      "sex               0\n",
      "capital-gain      0\n",
      "capital-loss      0\n",
      "hours-per-week    0\n",
      "native-country    0\n",
      "annual_income     0\n",
      "dtype: int64\n"
     ]
    }
   ],
   "source": [
    "# Basic info about the DataFrame\n",
    "df1.info()\n",
    "\n",
    "# Check for missing values\n",
    "print(df1.isnull().sum())"
   ]
  },
  {
   "cell_type": "code",
   "execution_count": 297,
   "id": "36f12635-60e4-43cc-b80a-bf60a8ac8cc2",
   "metadata": {},
   "outputs": [
    {
     "name": "stdout",
     "output_type": "stream",
     "text": [
      "                age        fnlwgt  education-num  capital-gain  capital-loss  \\\n",
      "count  32561.000000  3.256100e+04   32561.000000  32561.000000  32561.000000   \n",
      "mean      38.581647  1.897784e+05      10.080679   1077.648844     87.303830   \n",
      "std       13.640433  1.055500e+05       2.572720   7385.292085    402.960219   \n",
      "min       17.000000  1.228500e+04       1.000000      0.000000      0.000000   \n",
      "25%       28.000000  1.178270e+05       9.000000      0.000000      0.000000   \n",
      "50%       37.000000  1.783560e+05      10.000000      0.000000      0.000000   \n",
      "75%       48.000000  2.370510e+05      12.000000      0.000000      0.000000   \n",
      "max       90.000000  1.484705e+06      16.000000  99999.000000   4356.000000   \n",
      "\n",
      "       hours-per-week  \n",
      "count    32561.000000  \n",
      "mean        40.437456  \n",
      "std         12.347429  \n",
      "min          1.000000  \n",
      "25%         40.000000  \n",
      "50%         40.000000  \n",
      "75%         45.000000  \n",
      "max         99.000000  \n"
     ]
    }
   ],
   "source": [
    "# Descriptive statistics\n",
    "print(df1.describe())"
   ]
  },
  {
   "cell_type": "code",
   "execution_count": 298,
   "id": "c8294fed-b92e-4cfa-9541-fcf89d99db4e",
   "metadata": {},
   "outputs": [
    {
     "name": "stderr",
     "output_type": "stream",
     "text": [
      "C:\\Users\\taima\\anaconda3\\Lib\\site-packages\\seaborn\\_oldcore.py:1119: FutureWarning: use_inf_as_na option is deprecated and will be removed in a future version. Convert inf values to NaN before operating instead.\n",
      "  with pd.option_context('mode.use_inf_as_na', True):\n"
     ]
    },
    {
     "data": {
      "image/png": "[encoded data removed]",
      "text/plain": [
       "<Figure size 640x480 with 1 Axes>"
      ]
     },
     "metadata": {},
     "output_type": "display_data"
    },
    {
     "name": "stderr",
     "output_type": "stream",
     "text": [
      "C:\\Users\\taima\\anaconda3\\Lib\\site-packages\\seaborn\\_oldcore.py:1119: FutureWarning: use_inf_as_na option is deprecated and will be removed in a future version. Convert inf values to NaN before operating instead.\n",
      "  with pd.option_context('mode.use_inf_as_na', True):\n"
     ]
    },
    {
     "data": {
      "image/png": "[encoded data removed]",
      "text/plain": [
       "<Figure size 640x480 with 1 Axes>"
      ]
     },
     "metadata": {},
     "output_type": "display_data"
    }
   ],
   "source": [
    "import matplotlib.pyplot as plt\n",
    "import seaborn as sns\n",
    "\n",
    "sns.histplot(df1['annual_income'], bins=30, kde=True)\n",
    "plt.title('Distribution of Annual Income')\n",
    "plt.xlabel('Annual Income')\n",
    "plt.ylabel('Frequency')\n",
    "plt.show()\n",
    "\n",
    "sns.histplot(df1['age'], bins=10, kde=True)\n",
    "plt.title('Distribution of Age')\n",
    "plt.xlabel('Age')\n",
    "plt.ylabel('Frequency')\n",
    "plt.show()\n"
   ]
  },
  {
   "cell_type": "code",
   "execution_count": 299,
   "id": "6967133c-e872-445e-9bbd-2e28ec442190",
   "metadata": {},
   "outputs": [
    {
     "name": "stdout",
     "output_type": "stream",
     "text": [
      "Invalid ages found: Empty DataFrame\n",
      "Columns: [age, workclass, fnlwgt, education, education-num, marital-status, occupation, relationship, race, sex, capital-gain, capital-loss, hours-per-week, native-country, annual_income]\n",
      "Index: []\n"
     ]
    }
   ],
   "source": [
    "# Check for invalid values in 'age'\n",
    "invalid_ages = df1[df1['age'] < 0]\n",
    "print(f\"Invalid ages found: {invalid_ages}\")\n"
   ]
  },
  {
   "cell_type": "markdown",
   "id": "0b7dbe3f-28be-46c3-a7d2-efc6f0de68c6",
   "metadata": {},
   "source": [
    "#### Dataset 2: covers student mental healt\n",
    "h\n",
    "Type: CSV File in zip file.\n",
    "\n",
    "Method: This dataset was programmatically downloaded using the Kaggle API.\n",
    "\n",
    "The source: https://www.kaggle.com/datasets/sonia22222/students-mental-health-assessments/data\n",
    "\n",
    "Dataset variables:\n",
    "*  \n",
    "Age\n",
    "*  \n",
    "Course: student's major or field of study.\n",
    "*  \n",
    "Gender\n",
    "*  \n",
    "CGPA: Cumulative Grade Point Average.\n",
    "*  \n",
    "Stress_Level: The level of stress experienced by the individual.\n",
    "*  \n",
    "Depression_Score: The score representing the level of depression experienced by the individual.\n",
    "*  \n",
    "Anxiety_Score: The score representing the level of anxiety experienced by the individual.\n",
    "*  \n",
    "Sleep_Quality: The quality of sleep experienced by the individual .\n",
    "*  \n",
    "Physical_Activity: The level of physical activity .\n",
    "*  \n",
    "Diet_Quality: The quality of the individual's diet.\n",
    "*  \n",
    "Social_Support: The level of social support received by the individual.\n",
    "*  \n",
    "Substance_Use: The frequency of substance use such as alcohol, cigarettes or other drugs.\n",
    "*  \n",
    "Counseling_Service_Use: refers to whether or not the student has utilized counseling services provided by their educational institution.\n",
    "*  \n",
    "Family_History: Whether the individual has a family history of mental health issues.\n",
    "*  \n",
    "Chronic_Illness: Financial_Stress: The level of financial stress experienced by the individual (between 0 and 5).\n",
    "*  \n",
    "Financial_Stress\n",
    "*  \n",
    "Extracurricular_Involvement\n",
    "*  \n",
    "Semester_Credit_Load: The number of credits the individual is taking in the semester (15-30).\n",
    "*  \n",
    "Residence_Type: on or off campus."
   ]
  },
  {
   "cell_type": "code",
   "execution_count": 300,
   "id": "a01feb8c-7c69-4d07-bc19-32ca24c23d1e",
   "metadata": {},
   "outputs": [
    {
     "name": "stdout",
     "output_type": "stream",
     "text": [
      "Requirement already satisfied: kaggle in c:\\users\\taima\\anaconda3\\lib\\site-packages (1.6.14)\n",
      "Requirement already satisfied: six>=1.10 in c:\\users\\taima\\anaconda3\\lib\\site-packages (from kaggle) (1.16.0)\n",
      "Requirement already satisfied: certifi>=2023.7.22 in c:\\users\\taima\\anaconda3\\lib\\site-packages (from kaggle) (2024.2.2)\n",
      "Requirement already satisfied: python-dateutil in c:\\users\\taima\\anaconda3\\lib\\site-packages (from kaggle) (2.8.2)\n",
      "Requirement already satisfied: requests in c:\\users\\taima\\anaconda3\\lib\\site-packages (from kaggle) (2.31.0)\n",
      "Requirement already satisfied: tqdm in c:\\users\\taima\\anaconda3\\lib\\site-packages (from kaggle) (4.65.0)\n",
      "Requirement already satisfied: python-slugify in c:\\users\\taima\\anaconda3\\lib\\site-packages (from kaggle) (5.0.2)\n",
      "Requirement already satisfied: urllib3 in c:\\users\\taima\\anaconda3\\lib\\site-packages (from kaggle) (2.0.7)\n",
      "Requirement already satisfied: bleach in c:\\users\\taima\\anaconda3\\lib\\site-packages (from kaggle) (4.1.0)\n",
      "Requirement already satisfied: packaging in c:\\users\\taima\\anaconda3\\lib\\site-packages (from bleach->kaggle) (23.1)\n",
      "Requirement already satisfied: webencodings in c:\\users\\taima\\anaconda3\\lib\\site-packages (from bleach->kaggle) (0.5.1)\n",
      "Requirement already satisfied: text-unidecode>=1.3 in c:\\users\\taima\\anaconda3\\lib\\site-packages (from python-slugify->kaggle) (1.3)\n",
      "Requirement already satisfied: charset-normalizer<4,>=2 in c:\\users\\taima\\anaconda3\\lib\\site-packages (from requests->kaggle) (2.0.4)\n",
      "Requirement already satisfied: idna<4,>=2.5 in c:\\users\\taima\\anaconda3\\lib\\site-packages (from requests->kaggle) (3.4)\n",
      "Requirement already satisfied: colorama in c:\\users\\taima\\anaconda3\\lib\\site-packages (from tqdm->kaggle) (0.4.6)\n"
     ]
    }
   ],
   "source": [
    "!pip install kaggle"
   ]
  },
  {
   "cell_type": "code",
   "execution_count": 301,
   "id": "1890cf88-9366-4a0a-b390-4948c076599b",
   "metadata": {},
   "outputs": [
    {
     "name": "stdout",
     "output_type": "stream",
     "text": [
      "Dataset URL: https://www.kaggle.com/datasets/sonia22222/students-mental-health-assessments\n",
      "License(s): CC0-1.0\n",
      "students-mental-health-assessments.zip: Skipping, found more recently modified local copy (use --force to force download)\n"
     ]
    }
   ],
   "source": [
    "!kaggle datasets download -d sonia22222/students-mental-health-assessments"
   ]
  },
  {
   "cell_type": "code",
   "execution_count": 302,
   "id": "eed43573-cacd-48f1-9183-968171d663fc",
   "metadata": {},
   "outputs": [
    {
     "name": "stdout",
     "output_type": "stream",
     "text": [
      "Files extracted to: Desktop/\n"
     ]
    }
   ],
   "source": [
    "zip_file_path = 'students-mental-health-assessments.zip'\n",
    "\n",
    "# Define the directory to extract files to\n",
    "extract_to_path = 'Desktop/'\n",
    "\n",
    "# Ensure the extraction directory exists\n",
    "os.makedirs(extract_to_path, exist_ok=True)\n",
    "\n",
    "# Open the ZIP file\n",
    "with zipfile.ZipFile(zip_file_path, 'r') as zip_ref:\n",
    "    # Extract all contents to the specified directory\n",
    "    zip_ref.extractall(extract_to_path)\n",
    "\n",
    "print(f'Files extracted to: {extract_to_path}')"
   ]
  },
  {
   "cell_type": "code",
   "execution_count": 303,
   "id": "4d4da21a-894f-4e71-801f-5e7812f9069e",
   "metadata": {},
   "outputs": [
    {
     "data": {
      "text/html": [
       "<div>\n",
       "<style scoped>\n",
       "    .dataframe tbody tr th:only-of-type {\n",
       "        vertical-align: middle;\n",
       "    }\n",
       "\n",
       "    .dataframe tbody tr th {\n",
       "        vertical-align: top;\n",
       "    }\n",
       "\n",
       "    .dataframe thead th {\n",
       "        text-align: right;\n",
       "    }\n",
       "</style>\n",
       "<table border=\"1\" class=\"dataframe\">\n",
       "  <thead>\n",
       "    <tr style=\"text-align: right;\">\n",
       "      <th></th>\n",
       "      <th>Age</th>\n",
       "      <th>Course</th>\n",
       "      <th>Gender</th>\n",
       "      <th>CGPA</th>\n",
       "      <th>Stress_Level</th>\n",
       "      <th>Depression_Score</th>\n",
       "      <th>Anxiety_Score</th>\n",
       "      <th>Sleep_Quality</th>\n",
       "      <th>Physical_Activity</th>\n",
       "      <th>Diet_Quality</th>\n",
       "      <th>Social_Support</th>\n",
       "      <th>Relationship_Status</th>\n",
       "      <th>Substance_Use</th>\n",
       "      <th>Counseling_Service_Use</th>\n",
       "      <th>Family_History</th>\n",
       "      <th>Chronic_Illness</th>\n",
       "      <th>Financial_Stress</th>\n",
       "      <th>Extracurricular_Involvement</th>\n",
       "      <th>Semester_Credit_Load</th>\n",
       "      <th>Residence_Type</th>\n",
       "    </tr>\n",
       "  </thead>\n",
       "  <tbody>\n",
       "    <tr>\n",
       "      <th>0</th>\n",
       "      <td>25</td>\n",
       "      <td>Others</td>\n",
       "      <td>Male</td>\n",
       "      <td>3.56</td>\n",
       "      <td>3</td>\n",
       "      <td>3</td>\n",
       "      <td>2</td>\n",
       "      <td>Good</td>\n",
       "      <td>Moderate</td>\n",
       "      <td>Good</td>\n",
       "      <td>Moderate</td>\n",
       "      <td>Married</td>\n",
       "      <td>Never</td>\n",
       "      <td>Never</td>\n",
       "      <td>No</td>\n",
       "      <td>No</td>\n",
       "      <td>2</td>\n",
       "      <td>Moderate</td>\n",
       "      <td>17</td>\n",
       "      <td>On-Campus</td>\n",
       "    </tr>\n",
       "    <tr>\n",
       "      <th>1</th>\n",
       "      <td>24</td>\n",
       "      <td>Engineering</td>\n",
       "      <td>Female</td>\n",
       "      <td>2.44</td>\n",
       "      <td>0</td>\n",
       "      <td>3</td>\n",
       "      <td>0</td>\n",
       "      <td>Average</td>\n",
       "      <td>Low</td>\n",
       "      <td>Average</td>\n",
       "      <td>Low</td>\n",
       "      <td>Single</td>\n",
       "      <td>Occasionally</td>\n",
       "      <td>Occasionally</td>\n",
       "      <td>No</td>\n",
       "      <td>No</td>\n",
       "      <td>3</td>\n",
       "      <td>Low</td>\n",
       "      <td>27</td>\n",
       "      <td>On-Campus</td>\n",
       "    </tr>\n",
       "    <tr>\n",
       "      <th>2</th>\n",
       "      <td>19</td>\n",
       "      <td>Business</td>\n",
       "      <td>Female</td>\n",
       "      <td>3.74</td>\n",
       "      <td>4</td>\n",
       "      <td>0</td>\n",
       "      <td>3</td>\n",
       "      <td>Good</td>\n",
       "      <td>Low</td>\n",
       "      <td>Average</td>\n",
       "      <td>Moderate</td>\n",
       "      <td>In a Relationship</td>\n",
       "      <td>Never</td>\n",
       "      <td>Occasionally</td>\n",
       "      <td>No</td>\n",
       "      <td>No</td>\n",
       "      <td>4</td>\n",
       "      <td>High</td>\n",
       "      <td>15</td>\n",
       "      <td>On-Campus</td>\n",
       "    </tr>\n",
       "    <tr>\n",
       "      <th>3</th>\n",
       "      <td>19</td>\n",
       "      <td>Computer Science</td>\n",
       "      <td>Male</td>\n",
       "      <td>3.65</td>\n",
       "      <td>2</td>\n",
       "      <td>1</td>\n",
       "      <td>0</td>\n",
       "      <td>Average</td>\n",
       "      <td>Low</td>\n",
       "      <td>Average</td>\n",
       "      <td>Moderate</td>\n",
       "      <td>Single</td>\n",
       "      <td>NaN</td>\n",
       "      <td>Never</td>\n",
       "      <td>No</td>\n",
       "      <td>No</td>\n",
       "      <td>4</td>\n",
       "      <td>Moderate</td>\n",
       "      <td>20</td>\n",
       "      <td>Off-Campus</td>\n",
       "    </tr>\n",
       "    <tr>\n",
       "      <th>4</th>\n",
       "      <td>18</td>\n",
       "      <td>Business</td>\n",
       "      <td>Male</td>\n",
       "      <td>3.40</td>\n",
       "      <td>3</td>\n",
       "      <td>3</td>\n",
       "      <td>4</td>\n",
       "      <td>Good</td>\n",
       "      <td>Low</td>\n",
       "      <td>Average</td>\n",
       "      <td>High</td>\n",
       "      <td>Married</td>\n",
       "      <td>Never</td>\n",
       "      <td>Never</td>\n",
       "      <td>No</td>\n",
       "      <td>Yes</td>\n",
       "      <td>0</td>\n",
       "      <td>High</td>\n",
       "      <td>23</td>\n",
       "      <td>On-Campus</td>\n",
       "    </tr>\n",
       "  </tbody>\n",
       "</table>\n",
       "</div>"
      ],
      "text/plain": [
       "   Age            Course  Gender  CGPA  Stress_Level  Depression_Score  \\\n",
       "0   25            Others    Male  3.56             3                 3   \n",
       "1   24       Engineering  Female  2.44             0                 3   \n",
       "2   19          Business  Female  3.74             4                 0   \n",
       "3   19  Computer Science    Male  3.65             2                 1   \n",
       "4   18          Business    Male  3.40             3                 3   \n",
       "\n",
       "   Anxiety_Score Sleep_Quality Physical_Activity Diet_Quality Social_Support  \\\n",
       "0              2          Good          Moderate         Good       Moderate   \n",
       "1              0       Average               Low      Average            Low   \n",
       "2              3          Good               Low      Average       Moderate   \n",
       "3              0       Average               Low      Average       Moderate   \n",
       "4              4          Good               Low      Average           High   \n",
       "\n",
       "  Relationship_Status Substance_Use Counseling_Service_Use Family_History  \\\n",
       "0             Married         Never                  Never             No   \n",
       "1              Single  Occasionally           Occasionally             No   \n",
       "2   In a Relationship         Never           Occasionally             No   \n",
       "3              Single           NaN                  Never             No   \n",
       "4             Married         Never                  Never             No   \n",
       "\n",
       "  Chronic_Illness  Financial_Stress Extracurricular_Involvement  \\\n",
       "0              No                 2                    Moderate   \n",
       "1              No                 3                         Low   \n",
       "2              No                 4                        High   \n",
       "3              No                 4                    Moderate   \n",
       "4             Yes                 0                        High   \n",
       "\n",
       "   Semester_Credit_Load Residence_Type  \n",
       "0                    17      On-Campus  \n",
       "1                    27      On-Campus  \n",
       "2                    15      On-Campus  \n",
       "3                    20     Off-Campus  \n",
       "4                    23      On-Campus  "
      ]
     },
     "execution_count": 303,
     "metadata": {},
     "output_type": "execute_result"
    }
   ],
   "source": [
    "# Dataset 2:\n",
    "students_df = pd.read_csv('Desktop/students_mental_health_survey.csv')\n",
    "students_df.head()"
   ]
  },
  {
   "cell_type": "code",
   "execution_count": 304,
   "id": "f20b1ff0-a1a8-4c8d-a221-9ad039750804",
   "metadata": {},
   "outputs": [
    {
     "name": "stdout",
     "output_type": "stream",
     "text": [
      "<class 'pandas.core.frame.DataFrame'>\n",
      "RangeIndex: 7022 entries, 0 to 7021\n",
      "Data columns (total 20 columns):\n",
      " #   Column                       Non-Null Count  Dtype  \n",
      "---  ------                       --------------  -----  \n",
      " 0   Age                          7022 non-null   int64  \n",
      " 1   Course                       7022 non-null   object \n",
      " 2   Gender                       7022 non-null   object \n",
      " 3   CGPA                         7010 non-null   float64\n",
      " 4   Stress_Level                 7022 non-null   int64  \n",
      " 5   Depression_Score             7022 non-null   int64  \n",
      " 6   Anxiety_Score                7022 non-null   int64  \n",
      " 7   Sleep_Quality                7022 non-null   object \n",
      " 8   Physical_Activity            7022 non-null   object \n",
      " 9   Diet_Quality                 7022 non-null   object \n",
      " 10  Social_Support               7022 non-null   object \n",
      " 11  Relationship_Status          7022 non-null   object \n",
      " 12  Substance_Use                7007 non-null   object \n",
      " 13  Counseling_Service_Use       7022 non-null   object \n",
      " 14  Family_History               7022 non-null   object \n",
      " 15  Chronic_Illness              7022 non-null   object \n",
      " 16  Financial_Stress             7022 non-null   int64  \n",
      " 17  Extracurricular_Involvement  7022 non-null   object \n",
      " 18  Semester_Credit_Load         7022 non-null   int64  \n",
      " 19  Residence_Type               7022 non-null   object \n",
      "dtypes: float64(1), int64(6), object(13)\n",
      "memory usage: 1.1+ MB\n",
      "Age                             0\n",
      "Course                          0\n",
      "Gender                          0\n",
      "CGPA                           12\n",
      "Stress_Level                    0\n",
      "Depression_Score                0\n",
      "Anxiety_Score                   0\n",
      "Sleep_Quality                   0\n",
      "Physical_Activity               0\n",
      "Diet_Quality                    0\n",
      "Social_Support                  0\n",
      "Relationship_Status             0\n",
      "Substance_Use                  15\n",
      "Counseling_Service_Use          0\n",
      "Family_History                  0\n",
      "Chronic_Illness                 0\n",
      "Financial_Stress                0\n",
      "Extracurricular_Involvement     0\n",
      "Semester_Credit_Load            0\n",
      "Residence_Type                  0\n",
      "dtype: int64\n",
      "               Age        CGPA  Stress_Level  Depression_Score  Anxiety_Score  \\\n",
      "count  7022.000000  7010.00000   7022.000000       7022.000000    7022.000000   \n",
      "mean     23.003418     3.49127      2.427941          2.254486       2.300484   \n",
      "std       3.853978     0.28742      1.638408          1.625193       1.624305   \n",
      "min      18.000000     2.44000      0.000000          0.000000       0.000000   \n",
      "25%      20.000000     3.29000      1.000000          1.000000       1.000000   \n",
      "50%      22.000000     3.50000      2.000000          2.000000       2.000000   \n",
      "75%      25.000000     3.70000      4.000000          3.000000       4.000000   \n",
      "max      35.000000     4.00000      5.000000          5.000000       5.000000   \n",
      "\n",
      "       Financial_Stress  Semester_Credit_Load  \n",
      "count       7022.000000           7022.000000  \n",
      "mean           2.453005             22.010538  \n",
      "std            1.708995              4.358380  \n",
      "min            0.000000             15.000000  \n",
      "25%            1.000000             18.000000  \n",
      "50%            2.000000             22.000000  \n",
      "75%            4.000000             26.000000  \n",
      "max            5.000000             29.000000  \n"
     ]
    }
   ],
   "source": [
    "# Basic info about the DataFrame \n",
    "students_df.info() \n",
    "# Check for missing values \n",
    "print(students_df.isnull().sum())\n",
    "# Descriptive statistics \n",
    "print(students_df.describe())"
   ]
  },
  {
   "cell_type": "code",
   "execution_count": 305,
   "id": "d6e00fa2-c353-4f17-ae4c-dc49a5cc2310",
   "metadata": {},
   "outputs": [
    {
     "name": "stderr",
     "output_type": "stream",
     "text": [
      "C:\\Users\\taima\\anaconda3\\Lib\\site-packages\\seaborn\\_oldcore.py:1119: FutureWarning: use_inf_as_na option is deprecated and will be removed in a future version. Convert inf values to NaN before operating instead.\n",
      "  with pd.option_context('mode.use_inf_as_na', True):\n"
     ]
    },
    {
     "data": {
      "image/png": "[encoded data removed]",
      "text/plain": [
       "<Figure size 640x480 with 1 Axes>"
      ]
     },
     "metadata": {},
     "output_type": "display_data"
    }
   ],
   "source": [
    "sns.histplot(students_df['Age'], bins=10, kde=True)\n",
    "plt.title('Distribution of Age')\n",
    "plt.xlabel('Age')\n",
    "plt.ylabel('Frequency')\n",
    "plt.show()"
   ]
  },
  {
   "cell_type": "code",
   "execution_count": 306,
   "id": "11911a17-f428-4af8-aa6f-a57980440857",
   "metadata": {},
   "outputs": [
    {
     "name": "stdout",
     "output_type": "stream",
     "text": [
      "Invalid ages found: Empty DataFrame\n",
      "Columns: [Age, Course, Gender, CGPA, Stress_Level, Depression_Score, Anxiety_Score, Sleep_Quality, Physical_Activity, Diet_Quality, Social_Support, Relationship_Status, Substance_Use, Counseling_Service_Use, Family_History, Chronic_Illness, Financial_Stress, Extracurricular_Involvement, Semester_Credit_Load, Residence_Type]\n",
      "Index: []\n"
     ]
    }
   ],
   "source": [
    "invalid_stu_ages = students_df[students_df['Age'] < 0]\n",
    "print(f\"Invalid ages found: {invalid_stu_ages}\")"
   ]
  },
  {
   "cell_type": "markdown",
   "id": "e7d14f2f-f840-4641-8db3-fa250191c0b5",
   "metadata": {},
   "source": [
    "### **Quality Issue 1: Missing Values & Duplicate rows**\n",
    "\r\n"
   ]
  },
  {
   "cell_type": "code",
   "execution_count": 307,
   "id": "0ecdafe8-7b0f-4528-83f1-9391e050c8ee",
   "metadata": {},
   "outputs": [
    {
     "name": "stdout",
     "output_type": "stream",
     "text": [
      "<class 'pandas.core.frame.DataFrame'>\n",
      "RangeIndex: 32561 entries, 0 to 32560\n",
      "Data columns (total 15 columns):\n",
      " #   Column          Non-Null Count  Dtype \n",
      "---  ------          --------------  ----- \n",
      " 0   age             32561 non-null  int64 \n",
      " 1   workclass       32561 non-null  object\n",
      " 2   fnlwgt          32561 non-null  int64 \n",
      " 3   education       32561 non-null  object\n",
      " 4   education-num   32561 non-null  int64 \n",
      " 5   marital-status  32561 non-null  object\n",
      " 6   occupation      32561 non-null  object\n",
      " 7   relationship    32561 non-null  object\n",
      " 8   race            32561 non-null  object\n",
      " 9   sex             32561 non-null  object\n",
      " 10  capital-gain    32561 non-null  int64 \n",
      " 11  capital-loss    32561 non-null  int64 \n",
      " 12  hours-per-week  32561 non-null  int64 \n",
      " 13  native-country  32561 non-null  object\n",
      " 14  annual_income   32561 non-null  object\n",
      "dtypes: int64(6), object(9)\n",
      "memory usage: 3.7+ MB\n",
      "None\n"
     ]
    }
   ],
   "source": [
    "print(df1.info())"
   ]
  },
  {
   "cell_type": "code",
   "execution_count": 308,
   "id": "ec11d02e-35f2-46c5-b19f-ddf036b7a58d",
   "metadata": {},
   "outputs": [
    {
     "name": "stdout",
     "output_type": "stream",
     "text": [
      "age                  0\n",
      "workclass         1836\n",
      "fnlwgt               0\n",
      "education            0\n",
      "education-num        0\n",
      "marital-status       0\n",
      "occupation        1843\n",
      "relationship         0\n",
      "race                 0\n",
      "sex                  0\n",
      "capital-gain         0\n",
      "capital-loss         0\n",
      "hours-per-week       0\n",
      "native-country     583\n",
      "annual_income        0\n",
      "dtype: int64\n"
     ]
    }
   ],
   "source": [
    "# Replace '?' with np.nan\n",
    "df1.replace('?', np.nan, inplace=True)\n",
    "missing = df1.isnull().sum()\n",
    "print(missing)\n"
   ]
  },
  {
   "cell_type": "code",
   "execution_count": 309,
   "id": "dbf06089-6551-45b8-849b-dbb34cce65d0",
   "metadata": {},
   "outputs": [
    {
     "name": "stdout",
     "output_type": "stream",
     "text": [
      "Number of duplicate rows: 24\n"
     ]
    }
   ],
   "source": [
    "duplicate_rows = df1.duplicated().sum()\n",
    "print(f\"Number of duplicate rows: {duplicate_rows}\")\n"
   ]
  },
  {
   "cell_type": "markdown",
   "id": "b0dbb09e-d011-4bcb-8aad-c2ae71186c16",
   "metadata": {},
   "source": [
    "##### Issue and justification: The columns `workclass`, `occupation`, and `native-country` have missing values. The initial .info() output doesn't account for placeholders like '?', which can hide missing data. Also there are duplicate rows."
   ]
  },
  {
   "cell_type": "markdown",
   "id": "43c6c200-7844-44d6-9f3e-c64cd30dd5bb",
   "metadata": {},
   "source": [
    "### **Quality Issue 2:  Missing Values**"
   ]
  },
  {
   "cell_type": "code",
   "execution_count": 310,
   "id": "d3be09b9-89f7-4096-94c7-0570cfee799d",
   "metadata": {},
   "outputs": [
    {
     "name": "stdout",
     "output_type": "stream",
     "text": [
      "<class 'pandas.core.frame.DataFrame'>\n",
      "RangeIndex: 7022 entries, 0 to 7021\n",
      "Data columns (total 20 columns):\n",
      " #   Column                       Non-Null Count  Dtype  \n",
      "---  ------                       --------------  -----  \n",
      " 0   Age                          7022 non-null   int64  \n",
      " 1   Course                       7022 non-null   object \n",
      " 2   Gender                       7022 non-null   object \n",
      " 3   CGPA                         7010 non-null   float64\n",
      " 4   Stress_Level                 7022 non-null   int64  \n",
      " 5   Depression_Score             7022 non-null   int64  \n",
      " 6   Anxiety_Score                7022 non-null   int64  \n",
      " 7   Sleep_Quality                7022 non-null   object \n",
      " 8   Physical_Activity            7022 non-null   object \n",
      " 9   Diet_Quality                 7022 non-null   object \n",
      " 10  Social_Support               7022 non-null   object \n",
      " 11  Relationship_Status          7022 non-null   object \n",
      " 12  Substance_Use                7007 non-null   object \n",
      " 13  Counseling_Service_Use       7022 non-null   object \n",
      " 14  Family_History               7022 non-null   object \n",
      " 15  Chronic_Illness              7022 non-null   object \n",
      " 16  Financial_Stress             7022 non-null   int64  \n",
      " 17  Extracurricular_Involvement  7022 non-null   object \n",
      " 18  Semester_Credit_Load         7022 non-null   int64  \n",
      " 19  Residence_Type               7022 non-null   object \n",
      "dtypes: float64(1), int64(6), object(13)\n",
      "memory usage: 1.1+ MB\n",
      "None\n"
     ]
    }
   ],
   "source": [
    "print(students_df.info())"
   ]
  },
  {
   "cell_type": "code",
   "execution_count": 311,
   "id": "3dfbfd0b-4848-4f01-a469-54cde89e626d",
   "metadata": {},
   "outputs": [
    {
     "name": "stdout",
     "output_type": "stream",
     "text": [
      "Age                             0\n",
      "Course                          0\n",
      "Gender                          0\n",
      "CGPA                           12\n",
      "Stress_Level                    0\n",
      "Depression_Score                0\n",
      "Anxiety_Score                   0\n",
      "Sleep_Quality                   0\n",
      "Physical_Activity               0\n",
      "Diet_Quality                    0\n",
      "Social_Support                  0\n",
      "Relationship_Status             0\n",
      "Substance_Use                  15\n",
      "Counseling_Service_Use          0\n",
      "Family_History                  0\n",
      "Chronic_Illness                 0\n",
      "Financial_Stress                0\n",
      "Extracurricular_Involvement     0\n",
      "Semester_Credit_Load            0\n",
      "Residence_Type                  0\n",
      "dtype: int64\n"
     ]
    }
   ],
   "source": [
    "missingdf2 = students_df.isnull().sum()\n",
    "print(missingdf2)"
   ]
  },
  {
   "cell_type": "code",
   "execution_count": 312,
   "id": "c457d94b-39b7-4309-ab88-20d0482f83eb",
   "metadata": {},
   "outputs": [
    {
     "name": "stdout",
     "output_type": "stream",
     "text": [
      "Number of duplicate rows: 0\n"
     ]
    }
   ],
   "source": [
    "duplicate_rows = students_df.duplicated().sum()\n",
    "print(f\"Number of duplicate rows: {duplicate_rows}\")"
   ]
  },
  {
   "cell_type": "code",
   "execution_count": 313,
   "id": "fb188434-e4ae-4481-967e-3287f45db51f",
   "metadata": {},
   "outputs": [
    {
     "name": "stdout",
     "output_type": "stream",
     "text": [
      "Invalid Age Values:\n",
      " Empty DataFrame\n",
      "Columns: [Age, Course, Gender, CGPA, Stress_Level, Depression_Score, Anxiety_Score, Sleep_Quality, Physical_Activity, Diet_Quality, Social_Support, Relationship_Status, Substance_Use, Counseling_Service_Use, Family_History, Chronic_Illness, Financial_Stress, Extracurricular_Involvement, Semester_Credit_Load, Residence_Type]\n",
      "Index: []\n"
     ]
    }
   ],
   "source": [
    "invalid_age = students_df[(students_df['Age'] < 0) | (students_df['Age'] > 100)]\n",
    "print(\"Invalid Age Values:\\n\", invalid_age)"
   ]
  },
  {
   "cell_type": "code",
   "execution_count": 314,
   "id": "c1d6a770-9c23-4360-b666-944dbc18d7b9",
   "metadata": {},
   "outputs": [
    {
     "name": "stdout",
     "output_type": "stream",
     "text": [
      "Unique Courses:\n",
      " ['Others' 'Engineering' 'Business' 'Computer Science' 'Medical' 'Law']\n",
      "Unique Genders:\n",
      " ['Male' 'Female']\n"
     ]
    }
   ],
   "source": [
    "print(\"Unique Courses:\\n\", students_df['Course'].unique())\n",
    "print(\"Unique Genders:\\n\", students_df['Gender'].unique())"
   ]
  },
  {
   "cell_type": "code",
   "execution_count": 315,
   "id": "efa32901-f1c9-4f41-bf55-583a7d220b5d",
   "metadata": {},
   "outputs": [
    {
     "name": "stdout",
     "output_type": "stream",
     "text": [
      "Invalid CGPA Values:\n",
      " Empty DataFrame\n",
      "Columns: [Age, Course, Gender, CGPA, Stress_Level, Depression_Score, Anxiety_Score, Sleep_Quality, Physical_Activity, Diet_Quality, Social_Support, Relationship_Status, Substance_Use, Counseling_Service_Use, Family_History, Chronic_Illness, Financial_Stress, Extracurricular_Involvement, Semester_Credit_Load, Residence_Type]\n",
      "Index: []\n"
     ]
    }
   ],
   "source": [
    "invalid_cgpa = students_df[(students_df['CGPA'] < 0) | (students_df['CGPA'] > 4)]\n",
    "print(\"Invalid CGPA Values:\\n\", invalid_cgpa)"
   ]
  },
  {
   "cell_type": "code",
   "execution_count": 316,
   "id": "f065cc51-9159-4197-8289-7e30674c4e7f",
   "metadata": {},
   "outputs": [
    {
     "data": {
      "image/png": "[encoded data removed]",
      "text/plain": [
       "<Figure size 640x480 with 1 Axes>"
      ]
     },
     "metadata": {},
     "output_type": "display_data"
    },
    {
     "data": {
      "image/png": "[encoded data removed]",
      "text/plain": [
       "<Figure size 640x480 with 1 Axes>"
      ]
     },
     "metadata": {},
     "output_type": "display_data"
    }
   ],
   "source": [
    "import seaborn as sns\n",
    "import matplotlib.pyplot as plt\n",
    "\n",
    "sns.boxplot(x=students_df['CGPA'])\n",
    "plt.show()\n",
    "\n",
    "sns.boxplot(x=students_df['Stress_Level'])\n",
    "plt.show()\n"
   ]
  },
  {
   "cell_type": "markdown",
   "id": "e7502726-e9b6-43af-8d2d-b3f1fc6bdcb7",
   "metadata": {},
   "source": [
    "##### Issue and justification: \n",
    "\n",
    "###### Missing Values: \n",
    "The columns `CGPA` and `Substance_Use` have missing values. \n",
    "\n",
    "###### Duplicate Rows:\n",
    "No duplicate rows found in the dataset.\n",
    "\n",
    "###### Invalid Values:\n",
    "- No invalid age values were found.\n",
    "- No CGPA values were found to be less than 0 or greater than 4.\n",
    "  \n",
    "###### Inconsistent Values:\n",
    "- Course: The unique courses listed are 'others', 'engineering', 'business', 'computer science', 'medical', and 'law'.\n",
    "- Gender: Only 'Male' and 'Female' are present.\n"
   ]
  },
  {
   "cell_type": "markdown",
   "id": "0da82963-9a01-4cbc-a954-071063848de4",
   "metadata": {},
   "source": [
    "### **Tidiness Issue 1: Redundant Columns: `education` and `education-num` and Inconsistent Column Naming Conventions**"
   ]
  },
  {
   "cell_type": "code",
   "execution_count": 317,
   "id": "7b0c4598-97a2-4285-b26d-3e0047e419b7",
   "metadata": {},
   "outputs": [
    {
     "name": "stdout",
     "output_type": "stream",
     "text": [
      "age                int64\n",
      "workclass         object\n",
      "fnlwgt             int64\n",
      "education         object\n",
      "education-num      int64\n",
      "marital-status    object\n",
      "occupation        object\n",
      "relationship      object\n",
      "race              object\n",
      "sex               object\n",
      "capital-gain       int64\n",
      "capital-loss       int64\n",
      "hours-per-week     int64\n",
      "native-country    object\n",
      "annual_income     object\n",
      "dtype: object\n"
     ]
    }
   ],
   "source": [
    "#Data Types:\n",
    "print(df1.dtypes)"
   ]
  },
  {
   "cell_type": "markdown",
   "id": "2cfcb6d2-3e25-42bd-a2df-1614c04d0449",
   "metadata": {},
   "source": [
    "#### Check for Untidy Data Structure"
   ]
  },
  {
   "cell_type": "code",
   "execution_count": 318,
   "id": "ce2ba7b4-8fd9-4056-be7b-c857ceaf7647",
   "metadata": {},
   "outputs": [
    {
     "name": "stdout",
     "output_type": "stream",
     "text": [
      "Columns in the dataset: Index(['age', 'workclass', 'fnlwgt', 'education', 'education-num',\n",
      "       'marital-status', 'occupation', 'relationship', 'race', 'sex',\n",
      "       'capital-gain', 'capital-loss', 'hours-per-week', 'native-country',\n",
      "       'annual_income'],\n",
      "      dtype='object')\n",
      "Number of rows and columns: (32561, 15)\n"
     ]
    }
   ],
   "source": [
    "# Check if each variable has its own column\n",
    "print(\"Columns in the dataset:\", df1.columns)\n",
    "\n",
    "# Ensure each row is a single observation\n",
    "print(\"Number of rows and columns:\", df1.shape)\n"
   ]
  },
  {
   "cell_type": "markdown",
   "id": "6f0134a8-eb86-4206-a9dd-aa7803c145ee",
   "metadata": {},
   "source": [
    "#### Check for Columns Containing Multiple Variables"
   ]
  },
  {
   "cell_type": "code",
   "execution_count": 319,
   "id": "db7efce8-d4ce-4c98-923e-7268bdd6e122",
   "metadata": {},
   "outputs": [
    {
     "name": "stdout",
     "output_type": "stream",
     "text": [
      "   age         workclass  fnlwgt  education  education-num  \\\n",
      "0   39         State-gov   77516  Bachelors             13   \n",
      "1   50  Self-emp-not-inc   83311  Bachelors             13   \n",
      "2   38           Private  215646    HS-grad              9   \n",
      "3   53           Private  234721       11th              7   \n",
      "4   28           Private  338409  Bachelors             13   \n",
      "\n",
      "       marital-status         occupation   relationship   race     sex  \\\n",
      "0       Never-married       Adm-clerical  Not-in-family  White    Male   \n",
      "1  Married-civ-spouse    Exec-managerial        Husband  White    Male   \n",
      "2            Divorced  Handlers-cleaners  Not-in-family  White    Male   \n",
      "3  Married-civ-spouse  Handlers-cleaners        Husband  Black    Male   \n",
      "4  Married-civ-spouse     Prof-specialty           Wife  Black  Female   \n",
      "\n",
      "   capital-gain  capital-loss  hours-per-week native-country annual_income  \n",
      "0          2174             0              40  United-States         <=50K  \n",
      "1             0             0              13  United-States         <=50K  \n",
      "2             0             0              40  United-States         <=50K  \n",
      "3             0             0              40  United-States         <=50K  \n",
      "4             0             0              40           Cuba         <=50K  \n"
     ]
    }
   ],
   "source": [
    "# Print the first few rows to check for multiple variables in columns\n",
    "print(df1.head())\n"
   ]
  },
  {
   "cell_type": "markdown",
   "id": "445b041b-96d6-447c-8b45-450314be6096",
   "metadata": {},
   "source": [
    "#### Check for Rows Containing Multiple Observations"
   ]
  },
  {
   "cell_type": "code",
   "execution_count": 320,
   "id": "cab7d226-03c8-42b6-9bd3-7214aee44755",
   "metadata": {},
   "outputs": [
    {
     "name": "stdout",
     "output_type": "stream",
     "text": [
      "Number of duplicated rows: 24\n"
     ]
    }
   ],
   "source": [
    "# Check for duplicated rows\n",
    "duplicated_rows = df1.duplicated()\n",
    "print(f\"Number of duplicated rows: {duplicated_rows.sum()}\")\n"
   ]
  },
  {
   "cell_type": "markdown",
   "id": "2c836035-5d55-4c54-a033-efe7849bcf44",
   "metadata": {},
   "source": [
    "#### Check for Inconsistent Data Types"
   ]
  },
  {
   "cell_type": "code",
   "execution_count": 321,
   "id": "2f2aaef7-b94b-4ea1-ab17-4f8e6a31558c",
   "metadata": {},
   "outputs": [
    {
     "name": "stdout",
     "output_type": "stream",
     "text": [
      "Age                              int64\n",
      "Course                          object\n",
      "Gender                          object\n",
      "CGPA                           float64\n",
      "Stress_Level                     int64\n",
      "Depression_Score                 int64\n",
      "Anxiety_Score                    int64\n",
      "Sleep_Quality                   object\n",
      "Physical_Activity               object\n",
      "Diet_Quality                    object\n",
      "Social_Support                  object\n",
      "Relationship_Status             object\n",
      "Substance_Use                   object\n",
      "Counseling_Service_Use          object\n",
      "Family_History                  object\n",
      "Chronic_Illness                 object\n",
      "Financial_Stress                 int64\n",
      "Extracurricular_Involvement     object\n",
      "Semester_Credit_Load             int64\n",
      "Residence_Type                  object\n",
      "dtype: object\n"
     ]
    }
   ],
   "source": [
    "# Check data types\n",
    "print(students_df.dtypes)\n"
   ]
  },
  {
   "cell_type": "markdown",
   "id": "10892723-f89c-4868-a078-c0359c1eb734",
   "metadata": {},
   "source": [
    "#### Check for Redundant Information"
   ]
  },
  {
   "cell_type": "code",
   "execution_count": 322,
   "id": "787a7c52-9c42-4114-8202-71e55a3d44e0",
   "metadata": {},
   "outputs": [
    {
     "name": "stdout",
     "output_type": "stream",
     "text": [
      "Unique values per column to spot potential redundancy:\n",
      "Age: 18 unique values\n",
      "Course: 6 unique values\n",
      "Gender: 2 unique values\n",
      "CGPA: 143 unique values\n",
      "Stress_Level: 6 unique values\n",
      "Depression_Score: 6 unique values\n",
      "Anxiety_Score: 6 unique values\n",
      "Sleep_Quality: 3 unique values\n",
      "Physical_Activity: 3 unique values\n",
      "Diet_Quality: 3 unique values\n",
      "Social_Support: 3 unique values\n",
      "Relationship_Status: 3 unique values\n",
      "Substance_Use: 3 unique values\n",
      "Counseling_Service_Use: 3 unique values\n",
      "Family_History: 2 unique values\n",
      "Chronic_Illness: 2 unique values\n",
      "Financial_Stress: 6 unique values\n",
      "Extracurricular_Involvement: 3 unique values\n",
      "Semester_Credit_Load: 15 unique values\n",
      "Residence_Type: 3 unique values\n"
     ]
    }
   ],
   "source": [
    "# Checking for redundant columns (manual inspection based on column context)\n",
    "print(\"Unique values per column to spot potential redundancy:\")\n",
    "for column in students_df.columns:\n",
    "    print(f\"{column}: {students_df[column].nunique()} unique values\")\n"
   ]
  },
  {
   "cell_type": "markdown",
   "id": "bdf0ff95-109e-4a53-8b24-e439e4368979",
   "metadata": {},
   "source": [
    "##### Issue and justification: \n",
    "###### The dataset has two columns, \"education\" (which is categorical) and \"education-num\" (which is numerical), both representing the same information but in different formats. This redundancy violates the principle that each variable should be represented in a single column. Keeping both can lead to confusion and inconsistencies in data analysis and processing.\n",
    "###### Also, columns like workclass, marital-status, occupation, relationship, race, sex, native-country, and annual_income are stored as object data types instead of categorical. This is not a direct violation of tidy data principles but affects the efficiency of data storage and manipulation.\n"
   ]
  },
  {
   "cell_type": "markdown",
   "id": "0ae72d3a-c082-4fac-9ce5-24aaf2d6e0c2",
   "metadata": {},
   "source": [
    "### **Tidiness Issue 2: Inconsistent Categorical Encoding and Columns with Mixed Types of Information**"
   ]
  },
  {
   "cell_type": "code",
   "execution_count": 323,
   "id": "b9f6d2bd-b0f7-4974-830c-2a2987a794e1",
   "metadata": {},
   "outputs": [
    {
     "name": "stdout",
     "output_type": "stream",
     "text": [
      "<class 'pandas.core.frame.DataFrame'>\n",
      "RangeIndex: 7022 entries, 0 to 7021\n",
      "Data columns (total 20 columns):\n",
      " #   Column                       Non-Null Count  Dtype  \n",
      "---  ------                       --------------  -----  \n",
      " 0   Age                          7022 non-null   int64  \n",
      " 1   Course                       7022 non-null   object \n",
      " 2   Gender                       7022 non-null   object \n",
      " 3   CGPA                         7010 non-null   float64\n",
      " 4   Stress_Level                 7022 non-null   int64  \n",
      " 5   Depression_Score             7022 non-null   int64  \n",
      " 6   Anxiety_Score                7022 non-null   int64  \n",
      " 7   Sleep_Quality                7022 non-null   object \n",
      " 8   Physical_Activity            7022 non-null   object \n",
      " 9   Diet_Quality                 7022 non-null   object \n",
      " 10  Social_Support               7022 non-null   object \n",
      " 11  Relationship_Status          7022 non-null   object \n",
      " 12  Substance_Use                7007 non-null   object \n",
      " 13  Counseling_Service_Use       7022 non-null   object \n",
      " 14  Family_History               7022 non-null   object \n",
      " 15  Chronic_Illness              7022 non-null   object \n",
      " 16  Financial_Stress             7022 non-null   int64  \n",
      " 17  Extracurricular_Involvement  7022 non-null   object \n",
      " 18  Semester_Credit_Load         7022 non-null   int64  \n",
      " 19  Residence_Type               7022 non-null   object \n",
      "dtypes: float64(1), int64(6), object(13)\n",
      "memory usage: 1.1+ MB\n",
      "None\n"
     ]
    }
   ],
   "source": [
    "# Basic info\n",
    "print(students_df.info())\n"
   ]
  },
  {
   "cell_type": "markdown",
   "id": "7d69649b-85a9-4f2b-b37a-e97111edc51e",
   "metadata": {},
   "source": [
    "#### Check for Untidy Data Structure\n"
   ]
  },
  {
   "cell_type": "code",
   "execution_count": 324,
   "id": "4346833d-fa7c-42ce-8238-fe8205cb3e05",
   "metadata": {},
   "outputs": [
    {
     "name": "stdout",
     "output_type": "stream",
     "text": [
      "Columns in the dataset: Index(['Age', 'Course', 'Gender', 'CGPA', 'Stress_Level', 'Depression_Score',\n",
      "       'Anxiety_Score', 'Sleep_Quality', 'Physical_Activity', 'Diet_Quality',\n",
      "       'Social_Support', 'Relationship_Status', 'Substance_Use',\n",
      "       'Counseling_Service_Use', 'Family_History', 'Chronic_Illness',\n",
      "       'Financial_Stress', 'Extracurricular_Involvement',\n",
      "       'Semester_Credit_Load', 'Residence_Type'],\n",
      "      dtype='object')\n",
      "Number of rows and columns: (7022, 20)\n"
     ]
    }
   ],
   "source": [
    "\n",
    "# Check if each variable has its own column\n",
    "print(\"Columns in the dataset:\", students_df.columns)\n",
    "# Ensure each row is a single observation\n",
    "print(\"Number of rows and columns:\", students_df.shape)\n",
    "\n"
   ]
  },
  {
   "cell_type": "markdown",
   "id": "bb02ea87-2655-4a35-adc1-5828c37a4396",
   "metadata": {},
   "source": [
    "#### Check for Columns Containing Multiple Variables"
   ]
  },
  {
   "cell_type": "code",
   "execution_count": 325,
   "id": "b6d8c205-f4a4-4f9f-b3aa-fe43de3f7ea9",
   "metadata": {},
   "outputs": [
    {
     "name": "stdout",
     "output_type": "stream",
     "text": [
      "   Age            Course  Gender  CGPA  Stress_Level  Depression_Score  \\\n",
      "0   25            Others    Male  3.56             3                 3   \n",
      "1   24       Engineering  Female  2.44             0                 3   \n",
      "2   19          Business  Female  3.74             4                 0   \n",
      "3   19  Computer Science    Male  3.65             2                 1   \n",
      "4   18          Business    Male  3.40             3                 3   \n",
      "\n",
      "   Anxiety_Score Sleep_Quality Physical_Activity Diet_Quality Social_Support  \\\n",
      "0              2          Good          Moderate         Good       Moderate   \n",
      "1              0       Average               Low      Average            Low   \n",
      "2              3          Good               Low      Average       Moderate   \n",
      "3              0       Average               Low      Average       Moderate   \n",
      "4              4          Good               Low      Average           High   \n",
      "\n",
      "  Relationship_Status Substance_Use Counseling_Service_Use Family_History  \\\n",
      "0             Married         Never                  Never             No   \n",
      "1              Single  Occasionally           Occasionally             No   \n",
      "2   In a Relationship         Never           Occasionally             No   \n",
      "3              Single           NaN                  Never             No   \n",
      "4             Married         Never                  Never             No   \n",
      "\n",
      "  Chronic_Illness  Financial_Stress Extracurricular_Involvement  \\\n",
      "0              No                 2                    Moderate   \n",
      "1              No                 3                         Low   \n",
      "2              No                 4                        High   \n",
      "3              No                 4                    Moderate   \n",
      "4             Yes                 0                        High   \n",
      "\n",
      "   Semester_Credit_Load Residence_Type  \n",
      "0                    17      On-Campus  \n",
      "1                    27      On-Campus  \n",
      "2                    15      On-Campus  \n",
      "3                    20     Off-Campus  \n",
      "4                    23      On-Campus  \n"
     ]
    }
   ],
   "source": [
    "\n",
    "# Print the first few rows to check for multiple variables in columns\n",
    "print(students_df.head())\n",
    "\n"
   ]
  },
  {
   "cell_type": "markdown",
   "id": "77d312ed-a3d2-4247-aa25-8be7ed2279a7",
   "metadata": {},
   "source": [
    "#### Check for Rows Containing Multiple Observations"
   ]
  },
  {
   "cell_type": "code",
   "execution_count": 326,
   "id": "65974b52-dcad-4e5c-bffe-6d47811cecea",
   "metadata": {},
   "outputs": [
    {
     "name": "stdout",
     "output_type": "stream",
     "text": [
      "Number of duplicated rows: 0\n"
     ]
    }
   ],
   "source": [
    "\n",
    "# Check for duplicated rows\n",
    "duplicated_rows = students_df.duplicated()\n",
    "print(f\"Number of duplicated rows: {duplicated_rows.sum()}\")\n",
    "\n"
   ]
  },
  {
   "cell_type": "markdown",
   "id": "26edb1a3-62e1-4786-94ad-3a932ab69ac8",
   "metadata": {},
   "source": [
    "#### Check for Inconsistent Data Types"
   ]
  },
  {
   "cell_type": "code",
   "execution_count": 327,
   "id": "a59b9ef0-631f-4a02-af1a-e24b1e320961",
   "metadata": {},
   "outputs": [
    {
     "name": "stdout",
     "output_type": "stream",
     "text": [
      "Age                              int64\n",
      "Course                          object\n",
      "Gender                          object\n",
      "CGPA                           float64\n",
      "Stress_Level                     int64\n",
      "Depression_Score                 int64\n",
      "Anxiety_Score                    int64\n",
      "Sleep_Quality                   object\n",
      "Physical_Activity               object\n",
      "Diet_Quality                    object\n",
      "Social_Support                  object\n",
      "Relationship_Status             object\n",
      "Substance_Use                   object\n",
      "Counseling_Service_Use          object\n",
      "Family_History                  object\n",
      "Chronic_Illness                 object\n",
      "Financial_Stress                 int64\n",
      "Extracurricular_Involvement     object\n",
      "Semester_Credit_Load             int64\n",
      "Residence_Type                  object\n",
      "dtype: object\n"
     ]
    }
   ],
   "source": [
    "# Check data types\n",
    "print(students_df.dtypes)"
   ]
  },
  {
   "cell_type": "markdown",
   "id": "256b8a09-b7e9-4262-835d-3ad5ff9701e1",
   "metadata": {},
   "source": [
    "\n",
    "#### Check for Redundant Information"
   ]
  },
  {
   "cell_type": "code",
   "execution_count": 328,
   "id": "cc7c45ef-ffe0-431a-a584-5c8f1e2cece4",
   "metadata": {},
   "outputs": [
    {
     "name": "stdout",
     "output_type": "stream",
     "text": [
      "Unique values per column to spot potential redundancy:\n",
      "Age: 18 unique values\n",
      "Course: 6 unique values\n",
      "Gender: 2 unique values\n",
      "CGPA: 143 unique values\n",
      "Stress_Level: 6 unique values\n",
      "Depression_Score: 6 unique values\n",
      "Anxiety_Score: 6 unique values\n",
      "Sleep_Quality: 3 unique values\n",
      "Physical_Activity: 3 unique values\n",
      "Diet_Quality: 3 unique values\n",
      "Social_Support: 3 unique values\n",
      "Relationship_Status: 3 unique values\n",
      "Substance_Use: 3 unique values\n",
      "Counseling_Service_Use: 3 unique values\n",
      "Family_History: 2 unique values\n",
      "Chronic_Illness: 2 unique values\n",
      "Financial_Stress: 6 unique values\n",
      "Extracurricular_Involvement: 3 unique values\n",
      "Semester_Credit_Load: 15 unique values\n",
      "Residence_Type: 3 unique values\n"
     ]
    }
   ],
   "source": [
    "# Checking for redundant columns (manual inspection based on column context)\n",
    "print(\"Unique values per column to spot potential redundancy:\")\n",
    "for column in students_df.columns:\n",
    "    print(f\"{column}: {students_df[column].nunique()} unique values\")\n"
   ]
  },
  {
   "cell_type": "code",
   "execution_count": null,
   "id": "5b916942-2e87-441d-b108-13c199b892cb",
   "metadata": {},
   "outputs": [],
   "source": []
  },
  {
   "cell_type": "markdown",
   "id": "ab9a719b-b9ef-467e-958d-58a9ade6731c",
   "metadata": {},
   "source": [
    "##### Issue and justification: \n",
    "###### Inconsistent Categorical Encoding:\n",
    "Several categorical variables are represented in a manner that is not uniform across columns. For instance, some columns use a numerical scale (e.g., Stress_Level, Financial_Stress), while others use descriptive labels (e.g., Physical_Activity, Diet_Quality).\n",
    "\n",
    "###### Columns with Mixed Types of Information\n",
    "The Relationship_Status column includes mixed information (e.g., \"Married,\" \"Single,\" \"In a Relationship\"), which could be split into two columns: \"Marital_Status\" and \"Relationship_Status.\"\n",
    "\n"
   ]
  },
  {
   "cell_type": "markdown",
   "id": "09f3df61-a300-4dcf-8c19-7967ed9de3db",
   "metadata": {},
   "source": [
    "## 3. Clean data\r\n",
    "Clean the data to solve the 4 issues corresponding to data quality and tidiness found in the assessing step. **Make sure you include justifications for your cleaning decisions.**\r\n",
    "\r\n",
    "After the cleaning for each issue, please use **either** the visually or programatical method to validate the cleaning was succesful.\r\n",
    "\r\n",
    "At this stage, you are also expected to remove variables that are unnecessary for your analysis and combine your datasets. Depending on your datasets, you may choose to perform variable combination and elimination before or after the cleaning stage. Your dataset must have **at least** 4 variables after combining the data."
   ]
  },
  {
   "cell_type": "markdown",
   "id": "7c537f52-ff70-4ba7-a2ea-c429d3de2d87",
   "metadata": {},
   "source": [
    "### **Quality Issue 1: Missing Values & Duplicate rows**"
   ]
  },
  {
   "cell_type": "code",
   "execution_count": 329,
   "id": "bd3a4cb0-1d03-4ab5-9535-e62b1fb2f190",
   "metadata": {},
   "outputs": [],
   "source": [
    "# Make copies\n",
    "df1_clean = df1.copy()\n",
    "\n",
    "df1_clean.replace('?', np.nan, inplace=True)\n",
    "\n",
    "# Fill missing values\n",
    "df1_clean['workclass'].fillna(df1_clean['workclass'].mode()[0], inplace=True)\n",
    "df1_clean['occupation'].fillna(df1_clean['occupation'].mode()[0], inplace=True)\n",
    "df1_clean['native-country'].fillna('United-States', inplace=True)"
   ]
  },
  {
   "cell_type": "code",
   "execution_count": 330,
   "id": "c684ee2f-644f-4f6d-b548-27effe31ecce",
   "metadata": {},
   "outputs": [
    {
     "name": "stdout",
     "output_type": "stream",
     "text": [
      "age               0\n",
      "workclass         0\n",
      "fnlwgt            0\n",
      "education         0\n",
      "education-num     0\n",
      "marital-status    0\n",
      "occupation        0\n",
      "relationship      0\n",
      "race              0\n",
      "sex               0\n",
      "capital-gain      0\n",
      "capital-loss      0\n",
      "hours-per-week    0\n",
      "native-country    0\n",
      "annual_income     0\n",
      "dtype: int64\n"
     ]
    }
   ],
   "source": [
    "print(df1_clean.isnull().sum())"
   ]
  },
  {
   "cell_type": "code",
   "execution_count": 331,
   "id": "467cb53b-c1b8-4ae4-9177-64aea48fe3bc",
   "metadata": {},
   "outputs": [
    {
     "name": "stdout",
     "output_type": "stream",
     "text": [
      "Number of duplicate rows: 0\n"
     ]
    }
   ],
   "source": [
    "df1_clean = df1.drop_duplicates()\n",
    "duplicate = df1_clean.duplicated().sum()\n",
    "print(f\"Number of duplicate rows: {duplicate}\")"
   ]
  },
  {
   "cell_type": "markdown",
   "id": "b1a0e898-1090-459e-80f0-c9541337c1e4",
   "metadata": {},
   "source": [
    "##### Justification: \n",
    "###### Filling strategy:\n",
    "Filling missing values with the mode, remove duplicates rows"
   ]
  },
  {
   "cell_type": "markdown",
   "id": "e369fdc4-b25f-4347-9bd4-9c37f8f1034d",
   "metadata": {},
   "source": [
    "### **Quality Issue 2: Missing Values**"
   ]
  },
  {
   "cell_type": "code",
   "execution_count": 332,
   "id": "b25d85e3-772b-4081-9857-597833610fdf",
   "metadata": {},
   "outputs": [
    {
     "name": "stdout",
     "output_type": "stream",
     "text": [
      "<class 'pandas.core.frame.DataFrame'>\n",
      "RangeIndex: 7022 entries, 0 to 7021\n",
      "Data columns (total 16 columns):\n",
      " #   Column                  Non-Null Count  Dtype  \n",
      "---  ------                  --------------  -----  \n",
      " 0   Age                     7022 non-null   int64  \n",
      " 1   Course                  7022 non-null   object \n",
      " 2   Gender                  7022 non-null   object \n",
      " 3   CGPA                    7022 non-null   float64\n",
      " 4   Stress_Level            7022 non-null   int64  \n",
      " 5   Depression_Score        7022 non-null   int64  \n",
      " 6   Anxiety_Score           7022 non-null   int64  \n",
      " 7   Sleep_Quality           7022 non-null   object \n",
      " 8   Physical_Activity       7022 non-null   object \n",
      " 9   Diet_Quality            7022 non-null   object \n",
      " 10  Social_Support          7022 non-null   object \n",
      " 11  Counseling_Service_Use  7022 non-null   object \n",
      " 12  Family_History          7022 non-null   object \n",
      " 13  Chronic_Illness         7022 non-null   object \n",
      " 14  Financial_Stress        7022 non-null   int64  \n",
      " 15  Residence_Type          7022 non-null   object \n",
      "dtypes: float64(1), int64(5), object(10)\n",
      "memory usage: 877.9+ KB\n",
      "Age                       0\n",
      "Course                    0\n",
      "Gender                    0\n",
      "CGPA                      0\n",
      "Stress_Level              0\n",
      "Depression_Score          0\n",
      "Anxiety_Score             0\n",
      "Sleep_Quality             0\n",
      "Physical_Activity         0\n",
      "Diet_Quality              0\n",
      "Social_Support            0\n",
      "Counseling_Service_Use    0\n",
      "Family_History            0\n",
      "Chronic_Illness           0\n",
      "Financial_Stress          0\n",
      "Residence_Type            0\n",
      "dtype: int64\n"
     ]
    }
   ],
   "source": [
    "#FILL IN - Apply the cleaning strategy\n",
    "students_df_copy = students_df.copy()\n",
    "students_df_copy.drop(['Relationship_Status', 'Extracurricular_Involvement', \n",
    "                  'Semester_Credit_Load','Substance_Use'], axis=1, inplace=True)\n",
    "mean_cgpa = students_df_copy['CGPA'].mean()\n",
    "students_df_copy['CGPA'].fillna(mean_cgpa, inplace=True)\n",
    "\n",
    "students_df_copy.info()\n",
    "print(students_df_copy.isnull().sum())\n"
   ]
  },
  {
   "cell_type": "markdown",
   "id": "10dc4d4e-cf6f-4a15-886c-24d555ce8a41",
   "metadata": {},
   "source": [
    "##### Justification: \n",
    "###### Dropping rows that have a big number of missing data, and i will not use it in my analysis"
   ]
  },
  {
   "cell_type": "markdown",
   "id": "b1cb69df-0e5e-4f6b-b0d0-76675f98bac5",
   "metadata": {},
   "source": [
    "### **Tidiness Issue 1: Redundant Columns: `education` and `education-num` and Inconsistent Column Naming Conventions**"
   ]
  },
  {
   "cell_type": "code",
   "execution_count": 333,
   "id": "2d135611-04b9-4b4f-bf3c-63d2bd4dcf9e",
   "metadata": {},
   "outputs": [
    {
     "name": "stdout",
     "output_type": "stream",
     "text": [
      "Index(['age', 'workclass', 'fnlwgt', 'education', 'education-num',\n",
      "       'marital-status', 'occupation', 'relationship', 'race', 'sex',\n",
      "       'capital-gain', 'capital-loss', 'hours-per-week', 'native-country',\n",
      "       'annual_income'],\n",
      "      dtype='object')\n"
     ]
    }
   ],
   "source": [
    "\n",
    "df1_clean = df1.copy()\n",
    "print(df1_clean.columns)\n",
    "\n",
    "df1_clean.columns = df1_clean.columns.str.strip().str.lower().str.replace(' ', '_')\n"
   ]
  },
  {
   "cell_type": "code",
   "execution_count": 334,
   "id": "14c082ab-954f-47fa-8469-45f16c35bacd",
   "metadata": {},
   "outputs": [
    {
     "name": "stdout",
     "output_type": "stream",
     "text": [
      "\n",
      "Tidied Dataset:\n",
      "   age         workclass  final_weight  education  education_num  \\\n",
      "0   39         State-gov         77516  Bachelors             13   \n",
      "1   50  Self-emp-not-inc         83311  Bachelors             13   \n",
      "2   38           Private        215646    HS-grad              9   \n",
      "3   53           Private        234721       11th              7   \n",
      "4   28           Private        338409  Bachelors             13   \n",
      "5   37           Private        284582    Masters             14   \n",
      "6   49           Private        160187        9th              5   \n",
      "7   52  Self-emp-not-inc        209642    HS-grad              9   \n",
      "8   31           Private         45781    Masters             14   \n",
      "9   42           Private        159449  Bachelors             13   \n",
      "\n",
      "          marital_status         occupation   relationship   race     sex  \\\n",
      "0          Never-married       Adm-clerical  Not-in-family  White    Male   \n",
      "1     Married-civ-spouse    Exec-managerial        Husband  White    Male   \n",
      "2               Divorced  Handlers-cleaners  Not-in-family  White    Male   \n",
      "3     Married-civ-spouse  Handlers-cleaners        Husband  Black    Male   \n",
      "4     Married-civ-spouse     Prof-specialty           Wife  Black  Female   \n",
      "5     Married-civ-spouse    Exec-managerial           Wife  White  Female   \n",
      "6  Married-spouse-absent      Other-service  Not-in-family  Black  Female   \n",
      "7     Married-civ-spouse    Exec-managerial        Husband  White    Male   \n",
      "8          Never-married     Prof-specialty  Not-in-family  White  Female   \n",
      "9     Married-civ-spouse    Exec-managerial        Husband  White    Male   \n",
      "\n",
      "   capital_gain  capital_loss  hours_per_week native_country annual_income  \n",
      "0          2174             0              40  United-States         <=50K  \n",
      "1             0             0              13  United-States         <=50K  \n",
      "2             0             0              40  United-States         <=50K  \n",
      "3             0             0              40  United-States         <=50K  \n",
      "4             0             0              40           Cuba         <=50K  \n",
      "5             0             0              40  United-States         <=50K  \n",
      "6             0             0              16        Jamaica         <=50K  \n",
      "7             0             0              45  United-States          >50K  \n",
      "8         14084             0              50  United-States          >50K  \n",
      "9          5178             0              40  United-States          >50K  \n",
      "\n",
      "Data Types:\n",
      "age                  int64\n",
      "workclass         category\n",
      "final_weight         int64\n",
      "education           object\n",
      "education_num        int64\n",
      "marital_status    category\n",
      "occupation        category\n",
      "relationship      category\n",
      "race              category\n",
      "sex               category\n",
      "capital_gain         int64\n",
      "capital_loss         int64\n",
      "hours_per_week       int64\n",
      "native_country    category\n",
      "annual_income     category\n",
      "dtype: object\n"
     ]
    }
   ],
   "source": [
    "df1_clean = df1.rename(columns={\n",
    "    'fnlwgt': 'final_weight',\n",
    "    'education-num': 'education_num',\n",
    "    'marital-status': 'marital_status',\n",
    "    'capital-gain': 'capital_gain',\n",
    "    'capital-loss': 'capital_loss',\n",
    "    'hours-per-week': 'hours_per_week',\n",
    "    'native-country': 'native_country',\n",
    "    'annual_income': 'annual_income'  # Already consistent\n",
    "})\n",
    "\n",
    "categorical_columns = ['workclass', 'marital_status', 'occupation', 'relationship', 'race', 'sex', 'native_country', 'annual_income']\n",
    "for col in categorical_columns:\n",
    "    df1_clean[col] = df1_clean[col].astype('category')\n",
    "\n",
    "print(\"\\nTidied Dataset:\")\n",
    "print(df1_clean.head(10))\n",
    "print(\"\\nData Types:\")\n",
    "print(df1_clean.dtypes)\n"
   ]
  },
  {
   "cell_type": "code",
   "execution_count": 335,
   "id": "68ab8232-e822-4c39-bd83-bc3aa682abe1",
   "metadata": {},
   "outputs": [
    {
     "name": "stdout",
     "output_type": "stream",
     "text": [
      "   age         workclass  final_weight  education      marital_status  \\\n",
      "0   39         State-gov         77516  Bachelors       Never-married   \n",
      "1   50  Self-emp-not-inc         83311  Bachelors  Married-civ-spouse   \n",
      "2   38           Private        215646    HS-grad            Divorced   \n",
      "3   53           Private        234721       11th  Married-civ-spouse   \n",
      "4   28           Private        338409  Bachelors  Married-civ-spouse   \n",
      "\n",
      "          occupation   relationship   race     sex  capital_gain  \\\n",
      "0       Adm-clerical  Not-in-family  White    Male          2174   \n",
      "1    Exec-managerial        Husband  White    Male             0   \n",
      "2  Handlers-cleaners  Not-in-family  White    Male             0   \n",
      "3  Handlers-cleaners        Husband  Black    Male             0   \n",
      "4     Prof-specialty           Wife  Black  Female             0   \n",
      "\n",
      "   capital_loss  hours_per_week native_country annual_income  \n",
      "0             0              40  United-States         <=50K  \n",
      "1             0              13  United-States         <=50K  \n",
      "2             0              40  United-States         <=50K  \n",
      "3             0              40  United-States         <=50K  \n",
      "4             0              40           Cuba         <=50K  \n"
     ]
    }
   ],
   "source": [
    "df1_clean = df1_clean.drop(columns=['education_num'])\n",
    "print(df1_clean.head())"
   ]
  },
  {
   "cell_type": "markdown",
   "id": "3be6a04a-eb77-4c26-b998-475e5ea5e4d6",
   "metadata": {},
   "source": [
    "##### Justification:\n",
    "- Convert appropriate columns to categorical data types to improve efficiency and maintain data integrity.\n",
    "- Remove education_num to avoid redundancy"
   ]
  },
  {
   "cell_type": "code",
   "execution_count": 336,
   "id": "189f8541-13bc-45a3-85b7-09e7bafec556",
   "metadata": {},
   "outputs": [],
   "source": [
    "df1_clean.rename(columns={'age': 'Age', 'sex': 'Gender'}, inplace=True)"
   ]
  },
  {
   "cell_type": "markdown",
   "id": "8d8f0072-410a-4257-84da-03132f0a7854",
   "metadata": {},
   "source": [
    "### **Tidiness Issue 2: Inconsistent Categorical Encoding and Columns with Mixed Types of Information**"
   ]
  },
  {
   "cell_type": "code",
   "execution_count": 337,
   "id": "f45ceb29-6a9e-4306-b3e1-afb02c6b47a8",
   "metadata": {},
   "outputs": [
    {
     "name": "stdout",
     "output_type": "stream",
     "text": [
      "[3 0 4 2 1 5]\n",
      "[2 3 4 0 5 1]\n",
      "['Moderate' 'Low' 'High']\n",
      "['Good' 'Average' 'Poor']\n"
     ]
    }
   ],
   "source": [
    "print(students_df['Stress_Level'].unique())\n",
    "print(students_df['Financial_Stress'].unique())\n",
    "print(students_df['Physical_Activity'].unique())\n",
    "print(students_df['Diet_Quality'].unique())\n"
   ]
  },
  {
   "cell_type": "code",
   "execution_count": 338,
   "id": "f77db1da-17f0-4e2f-8fa3-7a6d792c4e51",
   "metadata": {},
   "outputs": [],
   "source": [
    "\n",
    "stress_mapping = {0: 'None', 1: 'Low', 2: 'Moderate', 3: 'High', 4: 'Very High', 5: 'Extreme'}\n",
    "students_df['Stress_Level'] = students_df['Stress_Level'].map(stress_mapping)\n",
    "\n",
    "financial_stress_mapping = {0: 'None', 1: 'Low', 2: 'Moderate', 3: 'High', 4: 'Very High', 5: 'Extreme'}\n",
    "students_df['Financial_Stress'] = students_df['Financial_Stress'].map(financial_stress_mapping)\n"
   ]
  },
  {
   "cell_type": "code",
   "execution_count": 339,
   "id": "f1d99caa-8af6-4a5f-8d0e-c4f3cf389f7d",
   "metadata": {},
   "outputs": [
    {
     "name": "stdout",
     "output_type": "stream",
     "text": [
      "['High' 'None' 'Very High' 'Moderate' 'Low' 'Extreme']\n",
      "['Moderate' 'High' 'Very High' 'None' 'Extreme' 'Low']\n",
      "['Moderate' 'Low' 'High']\n",
      "['Good' 'Average' 'Poor']\n"
     ]
    }
   ],
   "source": [
    "print(students_df['Stress_Level'].unique())\n",
    "print(students_df['Financial_Stress'].unique())\n",
    "print(students_df['Physical_Activity'].unique())\n",
    "print(students_df['Diet_Quality'].unique())"
   ]
  },
  {
   "cell_type": "markdown",
   "id": "8f7a2b4f-1dc0-4c2b-b2b6-5bf926fb0278",
   "metadata": {},
   "source": [
    "Stress_Level and Financial_Stress were initially considered for descriptive conversion because they often represent subjective experiences or perceptions that can be more interpretable when labeled with descriptive categories such as \"Low,\" \"Moderate,\" or \"High.\"\n",
    " Descriptive labels can make it easier to communicate findings to a non-technical audience.\n",
    "Example:\n",
    "Numerical: 0, 1, 2, 3, 4, 5\n",
    "Descriptive: None, Low, Moderate, High, Very High, Extreme"
   ]
  },
  {
   "cell_type": "code",
   "execution_count": 342,
   "id": "8c61d5e7-ce07-470d-9e52-b8dbf3b588de",
   "metadata": {},
   "outputs": [
    {
     "name": "stdout",
     "output_type": "stream",
     "text": [
      "['Married' 'Single' 'In a Relationship']\n"
     ]
    }
   ],
   "source": [
    "# View unique values in the Course column\n",
    "print(students_df['Relationship_Status'].unique())\n"
   ]
  },
  {
   "cell_type": "code",
   "execution_count": 343,
   "id": "9ea0689b-6bcc-4080-9dd3-23d7cab1bff9",
   "metadata": {},
   "outputs": [
    {
     "name": "stdout",
     "output_type": "stream",
     "text": [
      "  Marital_Status    Relationship_Status\n",
      "0        Married  Not in a Relationship\n",
      "1         Single  Not in a Relationship\n",
      "2         Single      In a Relationship\n",
      "3        Married  Not in a Relationship\n",
      "4         Single  Not in a Relationship\n"
     ]
    }
   ],
   "source": [
    "data = {\n",
    "    'Relationship_Status': ['Married', 'Single', 'In a Relationship', 'Married', 'Single', 'Single', 'In a Relationship']\n",
    "}\n",
    "students_df = pd.DataFrame(data)\n",
    "\n",
    "# Define functions to determine Marital_Status and Relationship_Status\n",
    "def determine_marital_status(status):\n",
    "    if status == 'Married':\n",
    "        return 'Married'\n",
    "    else:\n",
    "        return 'Single'\n",
    "\n",
    "def determine_relationship_status(status):\n",
    "    if status == 'In a Relationship':\n",
    "        return 'In a Relationship'\n",
    "    else:\n",
    "        return 'Not in a Relationship'\n",
    "\n",
    "# Create new columns\n",
    "students_df['Marital_Status'] = students_df['Relationship_Status'].apply(determine_marital_status)\n",
    "students_df['Relationship_Status_New'] = students_df['Relationship_Status'].apply(determine_relationship_status)\n",
    "\n",
    "# Drop the old Relationship_Status column if no longer needed\n",
    "students_df.drop(columns=['Relationship_Status'], inplace=True)\n",
    "students_df.rename(columns={'Relationship_Status_New': 'Relationship_Status'}, inplace=True)\n",
    "\n",
    "# Verify the changes\n",
    "print(students_df.head())"
   ]
  },
  {
   "cell_type": "code",
   "execution_count": null,
   "id": "08df0bb1-c944-45db-bd0a-1b7634c07c15",
   "metadata": {},
   "outputs": [],
   "source": []
  },
  {
   "cell_type": "markdown",
   "id": "92cdc0a6-06e9-42a9-aff1-660cd42b95eb",
   "metadata": {},
   "source": [
    "### **Remove unnecessary variables and combine datasets**\n",
    "\n",
    "Depending on the datasets, you can also peform the combination before the cleaning steps."
   ]
  },
  {
   "cell_type": "code",
   "execution_count": 350,
   "id": "9aaa762c-5aa4-4b1c-8bc9-07829c9ef580",
   "metadata": {},
   "outputs": [
    {
     "name": "stdout",
     "output_type": "stream",
     "text": [
      "  Age_x workclass  final_weight  education      marital_status  \\\n",
      "0    28   Private        338409  Bachelors  Married-civ-spouse   \n",
      "1    28   Private        338409  Bachelors  Married-civ-spouse   \n",
      "2    28   Private        338409  Bachelors  Married-civ-spouse   \n",
      "3    28   Private        338409  Bachelors  Married-civ-spouse   \n",
      "4    28   Private        338409  Bachelors  Married-civ-spouse   \n",
      "\n",
      "       occupation relationship   race Gender_x  capital_gain  ...  \\\n",
      "0  Prof-specialty         Wife  Black   Female             0  ...   \n",
      "1  Prof-specialty         Wife  Black   Female             0  ...   \n",
      "2  Prof-specialty         Wife  Black   Female             0  ...   \n",
      "3  Prof-specialty         Wife  Black   Female             0  ...   \n",
      "4  Prof-specialty         Wife  Black   Female             0  ...   \n",
      "\n",
      "   Anxiety_Score  Sleep_Quality Physical_Activity Diet_Quality Social_Support  \\\n",
      "0              3        Average          Moderate      Average       Moderate   \n",
      "1              3           Good          Moderate      Average           High   \n",
      "2              4           Good          Moderate      Average       Moderate   \n",
      "3              1           Good               Low         Poor           High   \n",
      "4              2           Good               Low      Average           High   \n",
      "\n",
      "  Counseling_Service_Use Family_History Chronic_Illness  Financial_Stress  \\\n",
      "0           Occasionally            Yes              No                 0   \n",
      "1                  Never             No              No                 2   \n",
      "2                  Never            Yes              No                 4   \n",
      "3           Occasionally             No              No                 0   \n",
      "4                  Never             No             Yes                 4   \n",
      "\n",
      "   Residence_Type  \n",
      "0      Off-Campus  \n",
      "1     With Family  \n",
      "2     With Family  \n",
      "3     With Family  \n",
      "4       On-Campus  \n",
      "\n",
      "[5 rows x 31 columns]\n"
     ]
    }
   ],
   "source": [
    "df1_clean['Age'] = df1_clean['Age'].astype(str)\n",
    "df1_clean['Gender'] = df1_clean['Gender'].astype(str)\n",
    "students_df_copy['Age'] = students_df_copy['Age'].astype(str)\n",
    "students_df_copy['Gender'] = students_df_copy['Gender'].astype(str)\n",
    "# Create a synthetic key for merging\n",
    "df1_clean['Key'] = df1_clean['Age'] + '_' + df1_clean['Gender']\n",
    "students_df_copy['Key'] = students_df_copy['Age'] + '_' + students_df_copy['Gender']\n",
    "merged_df = pd.merge(df1_clean, students_df_copy, on='Key', how='inner')\n",
    "print(merged_df.head())\n"
   ]
  },
  {
   "cell_type": "markdown",
   "id": "94d6793d-b092-4f36-b074-179fb80ab675",
   "metadata": {},
   "source": [
    "## 4. Update your data store\n",
    "Update your local database/data store with the cleaned data, following best practices for storing your cleaned data:\n",
    "\n",
    "- Must maintain different instances / versions of data (raw and cleaned data)\n",
    "- Must name the dataset files informatively\n",
    "- Ensure both the raw and cleaned data is saved to your database/data store"
   ]
  },
  {
   "cell_type": "code",
   "execution_count": 351,
   "id": "e024abe6-4700-4076-8ff8-3623eb9522a1",
   "metadata": {},
   "outputs": [],
   "source": [
    "df1_clean.to_csv('census-income-clean.csv', index=False)\n",
    "\n",
    "students_df_copy.to_csv('students-mental-health-assessments-clean.csv', index=False)\n",
    "\n",
    "merged_df.to_csv('merged_datasets.csv', index=False)\n"
   ]
  },
  {
   "cell_type": "markdown",
   "id": "2958003a-85c4-4630-822c-b204f4e6e599",
   "metadata": {},
   "source": [
    "## 5. Answer the research question\n",
    "\n",
    "### **5.1:** Define and answer the research question \n",
    "Going back to the problem statement in step 1, use the cleaned data to answer the question you raised. Produce **at least** two visualizations using the cleaned data and explain how they help you answer the question."
   ]
  },
  {
   "cell_type": "markdown",
   "id": "cbeae8bd-2c1b-4b23-8a21-ee0244981632",
   "metadata": {},
   "source": [
    "### Q1: Relationship between education level and mental health\n"
   ]
  },
  {
   "cell_type": "code",
   "execution_count": 352,
   "id": "a2e5754c-a41f-4e5b-afb2-7393248c3eaa",
   "metadata": {},
   "outputs": [
    {
     "name": "stdout",
     "output_type": "stream",
     "text": [
      "Average Mental Health Scores by Education Level:\n",
      "               Stress_Level  Depression_Score  Anxiety_Score\n",
      "education                                                  \n",
      "10th              2.443553          2.263249       2.305597\n",
      "11th              2.480444          2.262317       2.297893\n",
      "12th              2.470011          2.256333       2.292342\n",
      "1st-4th           2.414017          2.242300       2.316872\n",
      "5th-6th           2.426538          2.273192       2.299341\n",
      "7th-8th           2.409530          2.262331       2.290808\n",
      "9th               2.429267          2.262297       2.307849\n",
      "Assoc-acdm        2.399854          2.266901       2.305595\n",
      "Assoc-voc         2.403122          2.259865       2.312081\n",
      "Bachelors         2.391309          2.271338       2.318763\n",
      "Doctorate         2.429088          2.290658       2.374124\n",
      "HS-grad           2.421340          2.254766       2.299850\n",
      "Masters           2.406796          2.252459       2.345901\n",
      "Preschool         2.396164          2.257260       2.300000\n",
      "Prof-school       2.402512          2.245411       2.360870\n",
      "Some-college      2.422877          2.259840       2.293238\n"
     ]
    },
    {
     "data": {
      "image/png": "[encoded data removed]",
      "text/plain": [
       "<Figure size 1000x600 with 1 Axes>"
      ]
     },
     "metadata": {},
     "output_type": "display_data"
    }
   ],
   "source": [
    "education_mental_health = merged_df.groupby('education')[['Stress_Level', 'Depression_Score', 'Anxiety_Score']].mean()\n",
    "print(\"Average Mental Health Scores by Education Level:\\n\", education_mental_health)\n",
    "\n",
    "# Visualization for Q1 (Optional)\n",
    "education_mental_health.plot(kind='bar', figsize=(10, 6))\n",
    "plt.title('Average Mental Health Scores by Education Level')\n",
    "plt.xlabel('Education Level')\n",
    "plt.ylabel('Average Scores')\n",
    "plt.show()\n"
   ]
  },
  {
   "cell_type": "markdown",
   "id": "44e8bff2-63ab-46a6-a888-05b1ee71b2ba",
   "metadata": {},
   "source": [
    "Based on the average mental health scores across different education levels:\n",
    "\n",
    "- Stress Level: Generally, stress levels show slight variations among different education levels. Individuals with advanced degrees like Masters, Doctorate, or Prof-school tend to report slightly lower stress levels compared to those with lower educational attainment (e.g., 10th to 12th grade).\n",
    "\n",
    "- Depression Score: There doesn't appear to be a significant difference in depression scores across various education levels. The scores remain relatively consistent across most categories of education.\n",
    "\n",
    "- Anxiety Score: Similar to stress levels, anxiety scores exhibit minor differences across education levels. Individuals with higher education levels (Masters, Doctorate, Prof-school) generally report slightly higher anxiety scores compared to those with lower levels of education.\n",
    "\n",
    "Overall, while there are discernible differences, the variations in mental health scores based on education level are relatively subtle. This suggests that educational attainment alone may not strongly correlate with mental health outcomes within this dataset."
   ]
  },
  {
   "cell_type": "markdown",
   "id": "45837944-44e6-4cb7-911f-50807811fb33",
   "metadata": {},
   "source": [
    "### Q2: Influence of financial stress and annual income on academic performance and mental health\n"
   ]
  },
  {
   "cell_type": "code",
   "execution_count": 353,
   "id": "f799d219-5da3-47a3-a431-bb8176624d44",
   "metadata": {},
   "outputs": [
    {
     "name": "stderr",
     "output_type": "stream",
     "text": [
      "C:\\Users\\taima\\AppData\\Local\\Temp\\ipykernel_8180\\3347742807.py:1: FutureWarning: The default of observed=False is deprecated and will be changed to True in a future version of pandas. Pass observed=False to retain current behavior or observed=True to adopt the future default and silence this warning.\n",
      "  income_mental_health_academics = merged_df.groupby('annual_income')[['Financial_Stress', 'CGPA', 'Stress_Level', 'Depression_Score', 'Anxiety_Score']].mean()\n"
     ]
    },
    {
     "name": "stdout",
     "output_type": "stream",
     "text": [
      "Financial Stress and Mental Health vs. Income:\n",
      "                Financial_Stress      CGPA  Stress_Level  Depression_Score  \\\n",
      "annual_income                                                               \n",
      "<=50K                  2.454513  3.489794      2.422073          2.259280   \n",
      ">50K                   2.459783  3.492650      2.404570          2.274613   \n",
      "\n",
      "               Anxiety_Score  \n",
      "annual_income                 \n",
      "<=50K               2.299761  \n",
      ">50K                2.336411  \n"
     ]
    },
    {
     "data": {
      "image/png": "[encoded data removed]",
      "text/plain": [
       "<Figure size 1200x800 with 18 Axes>"
      ]
     },
     "metadata": {},
     "output_type": "display_data"
    }
   ],
   "source": [
    "income_mental_health_academics = merged_df.groupby('annual_income')[['Financial_Stress', 'CGPA', 'Stress_Level', 'Depression_Score', 'Anxiety_Score']].mean()\n",
    "print(\"Financial Stress and Mental Health vs. Income:\\n\", income_mental_health_academics)\n",
    "\n",
    "# Visualization for Q2 (Optional)\n",
    "income_mental_health_academics.plot(kind='bar', figsize=(12, 8), subplots=True, layout=(3, 6))\n",
    "plt.suptitle('Financial Stress and Mental Health vs. Income')\n",
    "plt.show()"
   ]
  },
  {
   "cell_type": "markdown",
   "id": "a873e111-040b-41ee-95bb-db032ac3dba4",
   "metadata": {},
   "source": [
    "Based on the average values by income level:\r\n",
    "\r\n",
    "- Financial Stress: There's a slight difference in financial stress levels between those earning less than or equal to $50,000 and more than $50,000 annually, with slightly higher stress reported among those earning less than or equal to $50,000.\r\n",
    "\r\n",
    "- CGPA (Academic Performance): The CGPA (Cumulative Grade Point Average) is quite similar between the two income groups, suggesting that academic performance does not show significant variation based on income alone in this dataset.\r\n",
    "\r\n",
    "- Mental Health Scores:\r\n",
    "  - Stress Level: Individuals earning less than or equal to $50,000 annually tend to report slightly higher stress levels compared to those earning more than $50,000 annually.\r\n",
    "  - Depression Score: Depression scores are also slightly higher among individuals earning less than or equal to $50,000 annually.\r\n",
    "  - Anxiety Score: Similarly, anxiety scores are slightly higher among those with annual incomes less than or equal to $50,000 compared to those with incomes over $50,000.\r\n",
    "\r\n",
    "Overall, these results suggest that while academic performance (CGPA) does not significantly differ by income level, individuals with lower annual incomes tend to report slightly higher levels of financial stress, stress, depression, and anxiety compared to those with higher incomes. These findings highlight a potential relationship between financial stress and mental health outcomes concerning income levels."
   ]
  },
  {
   "cell_type": "markdown",
   "id": "74ec1c0a-f249-4918-84bf-ab9cfb3afaf1",
   "metadata": {},
   "source": [
    "### **5.2:** Reflection\n",
    "In 2-4 sentences, if you had more time to complete the project, what actions would you take? For example, which data quality and structural issues would you look into further, and what research questions would you further explore?"
   ]
  },
  {
   "cell_type": "markdown",
   "id": "7895d3a1-0a43-4256-adf0-3a5ace9a7a02",
   "metadata": {},
   "source": [
    "I'm interested in delving deeper into my research questions, particularly looking at how specific demographic factors such as age and gender correlate with mental health outcomes. Additionally, I plan to conduct temporal analysis to see how these relationships might change or develop over time."
   ]
  },
  {
   "cell_type": "code",
   "execution_count": 354,
   "id": "cc907193-b145-482a-8c79-a35b7da1b6ff",
   "metadata": {},
   "outputs": [
    {
     "name": "stderr",
     "output_type": "stream",
     "text": [
      "[NbConvertApp] Converting notebook DataAnalysis.ipynb to html\n",
      "[NbConvertApp] WARNING | Alternative text is missing on 7 image(s).\n",
      "[NbConvertApp] Writing 673006 bytes to DataAnalysis.html\n"
     ]
    }
   ],
   "source": [
    "# Running this cell will execute a bash command to convert this notebook to an .html file\n",
    "!python -m nbconvert --to html DataAnalysis.ipynb"
   ]
  }
 ],
 "metadata": {
  "kernelspec": {
   "display_name": "Python 3 (ipykernel)",
   "language": "python",
   "name": "python3"
  },
  "language_info": {
   "codemirror_mode": {
    "name": "ipython",
    "version": 3
   },
   "file_extension": ".py",
   "mimetype": "text/x-python",
   "name": "python",
   "nbconvert_exporter": "python",
   "pygments_lexer": "ipython3",
   "version": "3.11.7"
  }
 },
 "nbformat": 4,
 "nbformat_minor": 5
}
